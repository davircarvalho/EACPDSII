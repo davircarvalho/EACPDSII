{
 "cells": [
  {
   "cell_type": "markdown",
   "metadata": {},
   "source": [
    "# UFSM\n",
    "## Engenharia Acústica \n",
    "## Processamento Digital de Sinais II\n",
    "### Trabalho Integrado: rotina de medição"
   ]
  },
  {
   "cell_type": "code",
   "execution_count": 1,
   "metadata": {},
   "outputs": [],
   "source": [
    "# Carregando as bibliotecas que utilizaremos\n",
    "import pytta\n",
    "from scipy.io import wavfile as wf\n",
    "import copy as cp\n",
    "import numpy as np"
   ]
  },
  {
   "cell_type": "markdown",
   "metadata": {},
   "source": [
    "#### Organização dos dados medidos\n",
    " \n",
    "O tipo de dado Struct, do MATLAB, funciona de forma semelhante ao Dictionary do Python. Vamos organizar as variáveis com dicionários dentro de dicionários.\n",
    "\n",
    "Sugiro que os dados sejam organizados nos seguintes níveis de informação e sequência:\n",
    "1. Configuração fonte receptor; e.g. S1R1;\n",
    "2. Sinal de excitação: sweep, música ou fala;\n",
    "3. Sinal gravado: biauricular, monofônico\n",
    "\n",
    "É notável que no momento da medição os dados não serão adquiridos nessa sequência. Uma parte do trabalho da nossa rotina de medição é pegar os dados medidos na última tomada e inseri-los no lugar correto do nosso dicionário de medição. Pois a cada tomada o número de posições medidas de receptor  mudará, como já vimos na matriz de teste (e.g. tomada 1 com S1R1 - biauricular, S1R2 - centro da cabeça - e S1R3 - centro do cabeça; tomada 'n' somente com S2R5 - biauricular).\n",
    "\n",
    "#### Exemplo de tomada de medição e armazenamento na matriz de dados"
   ]
  },
  {
   "cell_type": "code",
   "execution_count": 2,
   "metadata": {
    "scrolled": true
   },
   "outputs": [
    {
     "ename": "AttributeError",
     "evalue": "No 'pyttaObj' is able handle arrays with more                         than 2 dimensions, '[:,:]', YET!.",
     "output_type": "error",
     "traceback": [
      "\u001b[0;31m---------------------------------------------------------------------------\u001b[0m",
      "\u001b[0;31mAttributeError\u001b[0m                            Traceback (most recent call last)",
      "\u001b[0;32m<ipython-input-2-295e4aa63859>\u001b[0m in \u001b[0;36m<module>\u001b[0;34m\u001b[0m\n\u001b[1;32m      5\u001b[0m \u001b[0;31m# Cria signalObj de 4 canais como seria numa tomada de medição\u001b[0m\u001b[0;34m\u001b[0m\u001b[0;34m\u001b[0m\u001b[0;34m\u001b[0m\u001b[0m\n\u001b[1;32m      6\u001b[0m \u001b[0mmeasureTake\u001b[0m \u001b[0;34m=\u001b[0m \u001b[0mpytta\u001b[0m\u001b[0;34m.\u001b[0m\u001b[0mmerge\u001b[0m\u001b[0;34m(\u001b[0m\u001b[0mdummySignal\u001b[0m\u001b[0;34m,\u001b[0m\u001b[0mdummySignal\u001b[0m\u001b[0;34m)\u001b[0m\u001b[0;34m\u001b[0m\u001b[0;34m\u001b[0m\u001b[0m\n\u001b[0;32m----> 7\u001b[0;31m \u001b[0mmeasureTake\u001b[0m \u001b[0;34m=\u001b[0m \u001b[0mpytta\u001b[0m\u001b[0;34m.\u001b[0m\u001b[0mmerge\u001b[0m\u001b[0;34m(\u001b[0m\u001b[0mmeasureTake\u001b[0m\u001b[0;34m,\u001b[0m\u001b[0mmeasureTake\u001b[0m\u001b[0;34m)\u001b[0m \u001b[0;31m# bug aqui! pytta.merge em adaptação. :x\u001b[0m\u001b[0;34m\u001b[0m\u001b[0;34m\u001b[0m\u001b[0m\n\u001b[0m\u001b[1;32m      8\u001b[0m \u001b[0mmeasureTake\u001b[0m\u001b[0;34m.\u001b[0m\u001b[0mchannelName\u001b[0m \u001b[0;34m=\u001b[0m \u001b[0;34m{\u001b[0m\u001b[0;36m1\u001b[0m\u001b[0;34m:\u001b[0m\u001b[0;34m'S1R1'\u001b[0m\u001b[0;34m,\u001b[0m\u001b[0;36m2\u001b[0m\u001b[0;34m:\u001b[0m\u001b[0;34m'S1R1'\u001b[0m\u001b[0;34m,\u001b[0m\u001b[0;36m3\u001b[0m\u001b[0;34m:\u001b[0m\u001b[0;34m'S1R2'\u001b[0m\u001b[0;34m,\u001b[0m\u001b[0;36m4\u001b[0m\u001b[0;34m:\u001b[0m\u001b[0;34m'S1R3'\u001b[0m\u001b[0;34m}\u001b[0m\u001b[0;34m\u001b[0m\u001b[0;34m\u001b[0m\u001b[0m\n\u001b[1;32m      9\u001b[0m \u001b[0mmeasureTake\u001b[0m\u001b[0;34m.\u001b[0m\u001b[0mcomment\u001b[0m \u001b[0;34m=\u001b[0m \u001b[0;34m'music'\u001b[0m\u001b[0;34m\u001b[0m\u001b[0;34m\u001b[0m\u001b[0m\n",
      "\u001b[0;32m~/documents/localgit/pytta/pytta/functions.py\u001b[0m in \u001b[0;36mmerge\u001b[0;34m(signal1, *signalObjects)\u001b[0m\n\u001b[1;32m     74\u001b[0m         \u001b[0mmergedSignal\u001b[0m \u001b[0;34m=\u001b[0m \u001b[0mnp\u001b[0m\u001b[0;34m.\u001b[0m\u001b[0mhstack\u001b[0m\u001b[0;34m(\u001b[0m\u001b[0;34m(\u001b[0m\u001b[0mmergedSignal\u001b[0m\u001b[0;34m,\u001b[0m\u001b[0mnp\u001b[0m\u001b[0;34m.\u001b[0m\u001b[0marray\u001b[0m\u001b[0;34m(\u001b[0m\u001b[0;34m[\u001b[0m\u001b[0minObj\u001b[0m\u001b[0;34m.\u001b[0m\u001b[0mtimeSignal\u001b[0m\u001b[0;34m]\u001b[0m\u001b[0;34m)\u001b[0m\u001b[0;34m.\u001b[0m\u001b[0mT\u001b[0m\u001b[0;34m)\u001b[0m\u001b[0;34m)\u001b[0m\u001b[0;34m\u001b[0m\u001b[0;34m\u001b[0m\u001b[0m\n\u001b[1;32m     75\u001b[0m         \u001b[0mk\u001b[0m \u001b[0;34m+=\u001b[0m \u001b[0;36m1\u001b[0m\u001b[0;34m\u001b[0m\u001b[0;34m\u001b[0m\u001b[0m\n\u001b[0;32m---> 76\u001b[0;31m     \u001b[0mnewSignal\u001b[0m \u001b[0;34m=\u001b[0m \u001b[0mSignalObj\u001b[0m\u001b[0;34m(\u001b[0m\u001b[0mmergedSignal\u001b[0m\u001b[0;34m,\u001b[0m\u001b[0mdomain\u001b[0m\u001b[0;34m=\u001b[0m\u001b[0;34m'time'\u001b[0m\u001b[0;34m,\u001b[0m\u001b[0msamplingRate\u001b[0m\u001b[0;34m=\u001b[0m\u001b[0msamplingRate\u001b[0m\u001b[0;34m)\u001b[0m\u001b[0;34m\u001b[0m\u001b[0;34m\u001b[0m\u001b[0m\n\u001b[0m\u001b[1;32m     77\u001b[0m     \u001b[0;32mreturn\u001b[0m \u001b[0mnewSignal\u001b[0m\u001b[0;34m\u001b[0m\u001b[0;34m\u001b[0m\u001b[0m\n\u001b[1;32m     78\u001b[0m \u001b[0;34m\u001b[0m\u001b[0m\n",
      "\u001b[0;32m~/documents/localgit/pytta/pytta/classes.py\u001b[0m in \u001b[0;36m__init__\u001b[0;34m(self, signalArray, domain, unit, channelName, *args, **kwargs)\u001b[0m\n\u001b[1;32m    188\u001b[0m             \u001b[0mmessage\u001b[0m \u001b[0;34m=\u001b[0m\u001b[0;31m \u001b[0m\u001b[0;31m\"\u001b[0m\u001b[0mNo\u001b[0m \u001b[0;34m'pyttaObj'\u001b[0m \u001b[0;32mis\u001b[0m \u001b[0mable\u001b[0m \u001b[0mhandle\u001b[0m \u001b[0marrays\u001b[0m \u001b[0;32mwith\u001b[0m \u001b[0mmore\u001b[0m\u001b[0;31m \u001b[0m\u001b[0;31m\\\u001b[0m\u001b[0;34m\u001b[0m\u001b[0;34m\u001b[0m\u001b[0m\n\u001b[1;32m    189\u001b[0m                         \u001b[0mthan\u001b[0m \u001b[0;36m2\u001b[0m \u001b[0mdimensions\u001b[0m\u001b[0;34m,\u001b[0m \u001b[0;34m'[:,:]'\u001b[0m\u001b[0;34m,\u001b[0m \u001b[0mYET\u001b[0m\u001b[0;31m!\u001b[0m\u001b[0;34m.\u001b[0m\u001b[0;31m\"\u001b[0m\u001b[0;34m\u001b[0m\u001b[0;34m\u001b[0m\u001b[0m\n\u001b[0;32m--> 190\u001b[0;31m             \u001b[0;32mraise\u001b[0m \u001b[0mAttributeError\u001b[0m\u001b[0;34m(\u001b[0m\u001b[0mmessage\u001b[0m\u001b[0;34m)\u001b[0m\u001b[0;34m\u001b[0m\u001b[0;34m\u001b[0m\u001b[0m\n\u001b[0m\u001b[1;32m    191\u001b[0m         \u001b[0;32melse\u001b[0m\u001b[0;34m:\u001b[0m\u001b[0;34m\u001b[0m\u001b[0;34m\u001b[0m\u001b[0m\n\u001b[1;32m    192\u001b[0m             \u001b[0;32mpass\u001b[0m\u001b[0;34m\u001b[0m\u001b[0;34m\u001b[0m\u001b[0m\n",
      "\u001b[0;31mAttributeError\u001b[0m: No 'pyttaObj' is able handle arrays with more                         than 2 dimensions, '[:,:]', YET!."
     ]
    }
   ],
   "source": [
    "# Load de sinal de áudio qualquer para demonstração do código\n",
    "fileName = 'Piano Over the rainbow Mic2  SHORT.wav'\n",
    "dummySignal = pytta.read_wav(fileName)   \n",
    "\n",
    "# Cria signalObj de 4 canais como seria numa tomada de medição\n",
    "measureTake = pytta.merge(dummySignal,dummySignal)\n",
    "measureTake = pytta.merge(measureTake,measureTake) # bug aqui! pytta.merge em adaptação. :x\n",
    "measureTake.channelName = {1:'S1R1',2:'S1R1',3:'S1R2',4:'S1R3'}\n",
    "measureTake.comment = 'music'\n",
    "measureTake.temp = 24.666\n",
    "measureTake.RH = 69\n",
    "\n",
    "# Desmembra o SignalObj measuretake de 4 canais em 3 SignalObj referentes ao arranjo biauricular \n",
    "# em uma posição e ao centro da cabeça em duas outras posições\n",
    "\n",
    "binaural = pytta.SignalObj(measureTake.timeSignal[:,0:1],\n",
    "                           'time',\n",
    "                           samplingRate=measureTake.samplingRate,\n",
    "                           channelName={1:measureTake.channelName[1],2:measureTake.channelName[2]},\n",
    "                           comment=measureTake.comment)\n",
    "binaural.temp = measureTake.temp\n",
    "binaural.RH = measureTake.RH\n",
    "\n",
    "hc1 = pytta.SignalObj(measureTake.timeSignal[:,2],\n",
    "                      'time',\n",
    "                      samplingRate=measureTake.samplingRate,\n",
    "                      channelName={1:measureTake.channelName[3]},\n",
    "                      comment=measureTake.comment)\n",
    "hc1.temp = measureTake.temp\n",
    "hc1.RH = measureTake.RH\n",
    "\n",
    "hc2 = pytta.SignalObj(measureTake.timeSignal[:,3],\n",
    "                      'time',\n",
    "                      samplingRate=measureTake.samplingRate,\n",
    "                      channelName={1:measureTake.channelName[4]},\n",
    "                      comment=measureTake.comment)\n",
    "hc2.temp = measureTake.temp\n",
    "hc2.RH = measureTake.RH\n",
    "\n",
    "    \n",
    "# Neste ponto já teríamos tomado uma medição e desmembrado o SignalObj resultante em 3 novos SignalObj, sendo um \n",
    "# para o microfone biauricular e dois para os microfones de centro da cabeça.\n",
    "    \n",
    "# Adicionando a última tomada da medição no dicionário de dados\n",
    "    \n",
    "measurementData = {} # Cria o dicionário vazio que conterá todos os níveis de informação do nosso dia de medição\n",
    "\n",
    "# Adiciona cada uma das três posições de receptor da última tomada de medição \n",
    "measurementData[binaural.channelName[1]] = {binaural.comment : {'binaural' : binaural }}\n",
    "measurementData[hc1.channelName[1]] = {hc1.comment : {'hc' : hc1 }}\n",
    "measurementData[hc2.channelName[1]] = {hc2.comment : {'hc' : hc2 }}\n",
    "\n",
    "\n"
   ]
  },
  {
   "cell_type": "markdown",
   "metadata": {},
   "source": [
    "#### Acessando dados do dicionário de medição"
   ]
  },
  {
   "cell_type": "code",
   "execution_count": null,
   "metadata": {},
   "outputs": [],
   "source": [
    "measurementData['S1R1']['music']['binaural'].play()"
   ]
  }
 ],
 "metadata": {
  "kernelspec": {
   "display_name": "Python 3",
   "language": "python",
   "name": "python3"
  },
  "language_info": {
   "codemirror_mode": {
    "name": "ipython",
    "version": 3
   },
   "file_extension": ".py",
   "mimetype": "text/x-python",
   "name": "python",
   "nbconvert_exporter": "python",
   "pygments_lexer": "ipython3",
   "version": "3.7.1"
  }
 },
 "nbformat": 4,
 "nbformat_minor": 2
}
