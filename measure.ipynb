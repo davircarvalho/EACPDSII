{
 "cells": [
  {
   "cell_type": "markdown",
   "metadata": {},
   "source": [
    "# UFSM\n",
    "## Engenharia Acústica \n",
    "## Processamento Digital de Sinais II\n",
    "### Trabalho Integrado: rotina de medição"
   ]
  },
  {
   "cell_type": "code",
   "execution_count": 1,
   "metadata": {},
   "outputs": [],
   "source": [
    "# Carregando as bibliotecas que utilizaremos\n",
    "import pytta"
   ]
  },
  {
   "cell_type": "markdown",
   "metadata": {},
   "source": [
    "#### Organização dos dados medidos\n",
    " \n",
    "O tipo de dado Struct, do MATLAB, funciona de forma semelhante ao Dictionary do Python. Vamos organizar as variáveis com dicionários dentro de dicionários.\n",
    "\n",
    "Sugiro que os dados sejam organizados nos seguintes níveis de informação e sequência:\n",
    "1. Configuração fonte receptor; e.g. S1R1;\n",
    "2. Sinal de excitação: sweep, música ou fala;\n",
    "3. Sinal gravado: biauricular, monofônico\n",
    "\n",
    "É notável que no momento da medição os dados não serão adquiridos nessa sequência. Uma parte do trabalho da nossa rotina de medição é pegar os dados medidos na última tomada e inseri-los no lugar correto do nosso dicionário de medição. Pois a cada tomada o número de posições medidas de receptor  mudará, como já vimos na matriz de teste (e.g. tomada 1 com S1R1 - biauricular, S1R2 - centro da cabeça - e S1R3 - centro do cabeça; tomada 'n' somente com S2R5 - biauricular).\n",
    "\n",
    "#### Exemplo de dicionário de medição"
   ]
  },
  {
   "cell_type": "code",
   "execution_count": null,
   "metadata": {},
   "outputs": [],
   "source": [
    "SnRn = {'sweep':{},'music':{},'speech':{}}  # Cria um dicionário referente as medições de uma configuração \n",
    "                                            # fonte-receptor qualquer\n",
    "\n",
    "measurement = {} # Cria o dicionário vazio que conterá todos os níveis de informação do nosso dia de medição\n",
    "\n",
    "asdasdasdasd =asdasdasd;\n"
   ]
  },
  {
   "cell_type": "code",
   "execution_count": null,
   "metadata": {},
   "outputs": [],
   "source": [
    "RecMeasure = pytta.generate.measurement(kind = 'rec',\n",
    "                                        lengthDomain = 'samples',\n",
    "                                        fftDegree = 14,\n",
    "                                        samplingRate = pytta.default.samplingRate,\n",
    "                                        freqMin = 20,\n",
    "                                        freqMax = 20000,\n",
    "                                        device = [0,1],\n",
    "                                        inChannel = [1],\n",
    "                                        comment = 'RecMeasure test')"
   ]
  }
 ],
 "metadata": {
  "kernelspec": {
   "display_name": "Python 3",
   "language": "python",
   "name": "python3"
  },
  "language_info": {
   "codemirror_mode": {
    "name": "ipython",
    "version": 3
   },
   "file_extension": ".py",
   "mimetype": "text/x-python",
   "name": "python",
   "nbconvert_exporter": "python",
   "pygments_lexer": "ipython3",
   "version": "3.7.1"
  }
 },
 "nbformat": 4,
 "nbformat_minor": 2
}
