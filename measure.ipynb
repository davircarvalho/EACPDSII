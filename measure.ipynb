{
 "cells": [
  {
   "cell_type": "markdown",
   "metadata": {},
   "source": [
    "# UFSM\n",
    "## Engenharia Acústica \n",
    "## Processamento Digital de Sinais II\n",
    "### Trabalho Integrado: rotina de medição"
   ]
  },
  {
   "cell_type": "markdown",
   "metadata": {},
   "source": [
    "#### Organização dos dados medidos\n",
    " \n",
    "O tipo de dado Struct, do MATLAB, funciona de forma semelhante ao Dictionary do Python. Vamos organizar as variáveis com dicionários dentro de dicionários.\n",
    "\n",
    "Sugiro que os dados sejam organizados nos seguintes níveis de informação e sequência:\n",
    "1. Configuração fonte receptor; e.g. S1R1;\n",
    "2. Sinal de excitação: sweep, música ou fala;\n",
    "3. Sinal gravado: biauricular, monofônico\n",
    "\n",
    "É notável que no momento da medição os dados não serão adquiridos nessa sequência. Uma parte do trabalho da nossa rotina de medição é pegar os dados medidos na última tomada e inseri-los no lugar correto do nosso dicionário de medição. Pois a cada tomada o número de posições medidas de receptor  mudará, como já vimos na matriz de teste (e.g. tomada 1 com S1R1 - biauricular, S1R2 - centro da cabeça - e S1R3 - centro do cabeça; tomada 'n' somente com S2R5 - biauricular)."
   ]
  },
  {
   "cell_type": "code",
   "execution_count": 1,
   "metadata": {
    "tags": [
     "remove_cell"
    ]
   },
   "outputs": [],
   "source": [
    "# Carregando as bibliotecas que utilizaremos\n",
    "import pytta\n",
    "from scipy.io import wavfile as wf\n",
    "import copy as cp\n",
    "import numpy as np"
   ]
  },
  {
   "cell_type": "markdown",
   "metadata": {},
   "source": [
    "### Carregando dados já medidos"
   ]
  },
  {
   "cell_type": "code",
   "execution_count": null,
   "metadata": {},
   "outputs": [],
   "source": []
  },
  {
   "cell_type": "markdown",
   "metadata": {},
   "source": [
    "### Salvando dados medidos"
   ]
  },
  {
   "cell_type": "code",
   "execution_count": null,
   "metadata": {},
   "outputs": [],
   "source": []
  },
  {
   "cell_type": "markdown",
   "metadata": {},
   "source": [
    "### Configuração da medição"
   ]
  },
  {
   "cell_type": "code",
   "execution_count": 12,
   "metadata": {},
   "outputs": [],
   "source": [
    "# Configuração da medição\n",
    "\n",
    "device = [0,1] # Seleciona dispositivo listado em pytta.list_devices()\n",
    "samplingRate = 44100 # [Hz]\n",
    "freqMin = 20 # [Hz]\n",
    "freqMax = 20000 # [Hz]\n",
    "inChannel = [1,2,3,4] # Canais de entrada\n",
    "channelName = ['Orelha E','Orelha D','Mic 1','Mic 2'] # Lista com o nome dos canais \n",
    "outChannel = [1,2] # Canais de saída\n",
    "\n",
    "sweep = pytta.generate.sweep(freqMin=20, # Geração do sweep (também pode ser carregado projeto prévio)\n",
    "                            freqMax=20000,\n",
    "                            fftDegree=17,\n",
    "                            startMargin=1,\n",
    "                            stopMargin=1.5,\n",
    "                            method='logarithmic',\n",
    "                            windowing='hann')\n",
    "\n",
    "# sweep = pytta.generate.sweep()\n",
    "\n",
    "musica = pytta.read_wav('Piano Over the rainbow Mic2  SHORT.wav') # Carregando sinal de música\n",
    "\n",
    "fala = pytta.read_wav('Voice Sabine Short.WAV') # Carregando sinal de fala\n",
    "\n",
    "# Criando objetos de medição\n",
    "\n",
    "playRec = {'sweep' : pytta.generate.measurement('playrec',\n",
    "                                                excitation=sweep,\n",
    "                                                samplingRate=samplingRate,\n",
    "                                                freqMin=freqMin,\n",
    "                                                freqMax=freqMax,\n",
    "                                                device=device,\n",
    "                                                inChannel=inChannel,\n",
    "                                                outChannel=outChannel,\n",
    "                                                comment='sweep'),\n",
    "           'musica' : pytta.generate.measurement('playrec',\n",
    "                                                excitation=musica,\n",
    "                                                samplingRate=samplingRate,\n",
    "                                                freqMin=freqMin,\n",
    "                                                freqMax=freqMax,\n",
    "                                                device=device,\n",
    "                                                inChannel=inChannel,\n",
    "                                                outChannel=outChannel,\n",
    "                                                comment='musica'),\n",
    "           'fala' : pytta.generate.measurement('playrec',\n",
    "                                                excitation=fala,\n",
    "                                                samplingRate=samplingRate,\n",
    "                                                freqMin=freqMin,\n",
    "                                                freqMax=freqMax,\n",
    "                                                device=device,\n",
    "                                                inChannel=inChannel,\n",
    "                                                outChannel=outChannel,\n",
    "                                                comment='musica')}"
   ]
  },
  {
   "cell_type": "markdown",
   "metadata": {},
   "source": [
    "#### Cria signalObj como se fosse uma tomada da medição"
   ]
  },
  {
   "cell_type": "code",
   "execution_count": 14,
   "metadata": {},
   "outputs": [],
   "source": [
    "# Load de sinal de áudio qualquer para demonstração do código\n",
    "dummySignal = pytta.read_wav('Piano Over the rainbow Mic2  SHORT.wav')   \n",
    "\n",
    "# Cria signalObj de 4 canais como seria numa tomada da medição\n",
    "merge1 = pytta.merge(dummySignal,dummySignal)\n",
    "measureTake_fake = pytta.merge(merge1,merge1)\n",
    "measureTake_fake.position = ['S1R1','S1R1','S1R2','S1R3']\n",
    "measureTake_fake.comment = 'music'\n",
    "measureTake_fake.temp = 24.666\n",
    "measureTake_fake.RH = 69\n",
    "measureTake = measureTake_fake"
   ]
  },
  {
   "cell_type": "markdown",
   "metadata": {},
   "source": [
    "### Armazenamento da última tomada da medição\n",
    "\n",
    "#### Prepara última tomada da medição para armazenamento na matriz de dados"
   ]
  },
  {
   "cell_type": "code",
   "execution_count": 15,
   "metadata": {
    "scrolled": true
   },
   "outputs": [],
   "source": [
    "# Desmembra o SignalObj measuretake de 4 canais em 3 SignalObj referentes ao arranjo biauricular \n",
    "# em uma posição e ao centro da cabeça em duas outras posições\n",
    "\n",
    "binaural = pytta.SignalObj(measureTake.timeSignal[:,0:2],\n",
    "                           'time',\n",
    "                           samplingRate=measureTake.samplingRate,\n",
    "                           channelName=[measureTake.channelName[0],measureTake.channelName[1]],\n",
    "                           comment=measureTake.comment)\n",
    "binaural.temp = measureTake.temp\n",
    "binaural.RH = measureTake.RH\n",
    "binaural.position = measureTake.position[0]\n",
    "\n",
    "hc1 = pytta.SignalObj(measureTake.timeSignal[:,2],\n",
    "                      'time',\n",
    "                      samplingRate=measureTake.samplingRate,\n",
    "                      channelName=[measureTake.channelName[2]],\n",
    "                      comment=measureTake.comment)\n",
    "hc1.temp = measureTake.temp\n",
    "hc1.RH = measureTake.RH\n",
    "hc1.position = measureTake.position[0]\n",
    "\n",
    "hc2 = pytta.SignalObj(measureTake.timeSignal[:,3],\n",
    "                      'time',\n",
    "                      samplingRate=measureTake.samplingRate,\n",
    "                      channelName=[measureTake.channelName[3]],\n",
    "                      comment=measureTake.comment)\n",
    "hc2.temp = measureTake.temp\n",
    "hc2.RH = measureTake.RH\n",
    "hc2.position = measureTake.position[0]\n",
    "\n",
    "    \n",
    "# Neste ponto já teríamos tomado uma medição e desmembrado o SignalObj resultante em 3 novos SignalObj, sendo um \n",
    "# para o microfone biauricular e dois para os microfones de centro da cabeça."
   ]
  },
  {
   "cell_type": "markdown",
   "metadata": {},
   "source": [
    "#### Adicionando tomada de medição no dicionário de dados medidos"
   ]
  },
  {
   "cell_type": "code",
   "execution_count": null,
   "metadata": {},
   "outputs": [],
   "source": [
    "# Adicionando a última tomada da medição no dicionário de dados\n",
    "    \n",
    "measurementData = {} # Cria o dicionário vazio que conterá todos os níveis de informação do nosso dia de medição\n",
    "\n",
    "# Adiciona cada uma das três posições de receptor da última tomada de medição \n",
    "measurementData[binaural.channelName[0]] = {binaural.comment : {'binaural' : binaural }}\n",
    "measurementData[hc1.channelName[0]] = {hc1.comment : {'hc' : hc1 }}\n",
    "measurementData[hc2.channelName[0]] = {hc2.comment : {'hc' : hc2 }}"
   ]
  },
  {
   "cell_type": "markdown",
   "metadata": {},
   "source": [
    "#### Acessando dados no dicionário de dados medidos"
   ]
  },
  {
   "cell_type": "code",
   "execution_count": null,
   "metadata": {},
   "outputs": [],
   "source": [
    "measurementData['S1R1']['music']['binaural'].play()"
   ]
  }
 ],
 "metadata": {
  "kernelspec": {
   "display_name": "Python 3",
   "language": "python",
   "name": "python3"
  },
  "language_info": {
   "codemirror_mode": {
    "name": "ipython",
    "version": 3
   },
   "file_extension": ".py",
   "mimetype": "text/x-python",
   "name": "python",
   "nbconvert_exporter": "python",
   "pygments_lexer": "ipython3",
   "version": "3.7.1"
  }
 },
 "nbformat": 4,
 "nbformat_minor": 2
}
