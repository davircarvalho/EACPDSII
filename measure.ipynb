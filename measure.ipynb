{
 "cells": [
  {
   "cell_type": "markdown",
   "metadata": {},
   "source": [
    "# UFSM\n",
    "## Engenharia Acústica \n",
    "## Processamento Digital de Sinais II\n",
    "### Trabalho Integrado: rotina de medição"
   ]
  },
  {
   "cell_type": "markdown",
   "metadata": {},
   "source": [
    "#### Organização dos dados medidos\n",
    " \n",
    "O tipo de dado Struct, do MATLAB, funciona de forma semelhante ao Dictionary do Python. Vamos organizar as variáveis com dicionários dentro de dicionários.\n",
    "\n",
    "Sugiro que os dados sejam organizados nos seguintes níveis de informação e sequência:\n",
    "1. Configuração fonte receptor; e.g. S1R1;\n",
    "2. Sinal de excitação: sweep, música ou fala;\n",
    "3. Sinal gravado: biauricular, monofônico\n",
    "\n",
    "É notável que no momento da medição os dados não serão adquiridos nessa sequência. Uma parte do trabalho da nossa rotina de medição é pegar os dados medidos na última tomada e inseri-los no lugar correto do nosso dicionário de medição. Pois a cada tomada o número de posições medidas de receptor  mudará, como já vimos na matriz de teste (e.g. tomada 1 com S1R1 - biauricular, S1R2 - centro da cabeça - e S1R3 - centro do cabeça; tomada 'n' somente com S2R5 - biauricular)."
   ]
  },
  {
   "cell_type": "code",
   "execution_count": 2,
   "metadata": {
    "tags": [
     "remove_cell"
    ]
   },
   "outputs": [],
   "source": [
    "# Carregando as bibliotecas que utilizaremos\n",
    "import pytta\n",
    "from scipy.io import wavfile as wf\n",
    "import copy as cp\n",
    "import numpy as np\n",
    "import ipywidgets as widgets\n",
    "\n",
    "measurementData = {} # Cria o dicionário vazio que conterá todos os níveis de informação do nosso dia de medição"
   ]
  },
  {
   "cell_type": "markdown",
   "metadata": {},
   "source": [
    "### Carregando dados já medidos"
   ]
  },
  {
   "cell_type": "code",
   "execution_count": null,
   "metadata": {},
   "outputs": [],
   "source": []
  },
  {
   "cell_type": "markdown",
   "metadata": {},
   "source": [
    "### Salvando dados medidos"
   ]
  },
  {
   "cell_type": "code",
   "execution_count": null,
   "metadata": {},
   "outputs": [],
   "source": []
  },
  {
   "cell_type": "markdown",
   "metadata": {},
   "source": [
    "### Configuração da medição"
   ]
  },
  {
   "cell_type": "code",
   "execution_count": 6,
   "metadata": {},
   "outputs": [],
   "source": [
    "# Configuração da medição\n",
    "\n",
    "# device = [0,1] # Seleciona dispositivo listado em pytta.list_devices()\n",
    "device = 4 # Seleciona dispositivo listado em pytta.list_devices()\n",
    "samplingRate = 44100 # [Hz]\n",
    "freqMin = 20 # [Hz]\n",
    "freqMax = 20000 # [Hz]\n",
    "inChannel = [1,2,3,4] # Canais de entrada\n",
    "channelName = ['Orelha E','Orelha D','Mic 1','Mic 2'] # Lista com o nome dos canais \n",
    "outChannel = [1,2] # Canais de saída\n",
    "averages = 3 # Número de médias por medição (FALTA IMPLEMENTAR NO PYTTA)\n",
    "\n",
    "sweep = pytta.generate.sweep(freqMin=20, # Geração do sweep (também pode ser carregado projeto prévio)\n",
    "                            freqMax=20000,\n",
    "                            fftDegree=17,\n",
    "                            startMargin=1,\n",
    "                            stopMargin=1.5,\n",
    "                            method='logarithmic',\n",
    "                            windowing='hann')\n",
    "\n",
    "# sweep = pytta.generate.sweep()\n",
    "\n",
    "musica = pytta.read_wav('Piano Over the rainbow Mic2  SHORT.wav') # Carregando sinal de música\n",
    "\n",
    "fala = pytta.read_wav('Voice Sabine Short.WAV') # Carregando sinal de fala\n",
    "\n",
    "# Criando objetos de medição\n",
    "\n",
    "playRec = {'sweep' : pytta.generate.measurement('playrec',\n",
    "                                                excitation=sweep,\n",
    "                                                samplingRate=samplingRate,\n",
    "                                                freqMin=freqMin,\n",
    "                                                freqMax=freqMax,\n",
    "                                                device=device,\n",
    "                                                inChannel=inChannel,\n",
    "                                                outChannel=outChannel,\n",
    "                                                comment='sweep'),\n",
    "           'musica' : pytta.generate.measurement('playrec',\n",
    "                                                excitation=musica,\n",
    "                                                samplingRate=samplingRate,\n",
    "                                                freqMin=freqMin,\n",
    "                                                freqMax=freqMax,\n",
    "                                                device=device,\n",
    "                                                inChannel=inChannel,\n",
    "                                                outChannel=outChannel,\n",
    "                                                comment='musica'),\n",
    "           'fala' : pytta.generate.measurement('playrec',\n",
    "                                                excitation=fala,\n",
    "                                                samplingRate=samplingRate,\n",
    "                                                freqMin=freqMin,\n",
    "                                                freqMax=freqMax,\n",
    "                                                device=device,\n",
    "                                                inChannel=inChannel,\n",
    "                                                outChannel=outChannel,\n",
    "                                                comment='musica')}"
   ]
  },
  {
   "cell_type": "markdown",
   "metadata": {},
   "source": [
    "#### Cria signalObj como se fosse uma tomada da medição"
   ]
  },
  {
   "cell_type": "code",
   "execution_count": 7,
   "metadata": {},
   "outputs": [],
   "source": [
    "# Load de sinal de áudio qualquer para demonstração do código\n",
    "dummySignal = pytta.read_wav('Piano Over the rainbow Mic2  SHORT.wav')   \n",
    "\n",
    "# Cria signalObj de 4 canais como seria numa tomada da medição\n",
    "merge1 = pytta.merge(dummySignal,dummySignal)\n",
    "measureTake_fake = pytta.merge(merge1,merge1)\n",
    "measureTake_fake.sourceReceiver = ['S1R1','S1R1','S1R2','S1R3']\n",
    "measureTake_fake.comment = 'music'\n",
    "measureTake_fake.temp = 24.666\n",
    "measureTake_fake.RH = 69\n",
    "# measureTake = measureTake_fake"
   ]
  },
  {
   "cell_type": "markdown",
   "metadata": {},
   "source": [
    "### Nova tomada da medição"
   ]
  },
  {
   "cell_type": "markdown",
   "metadata": {},
   "source": [
    "#### Opções"
   ]
  },
  {
   "cell_type": "code",
   "execution_count": 8,
   "metadata": {},
   "outputs": [],
   "source": [
    "# Status do canal: True para ligado e False para desligado\n",
    "channelStatus = [False, # canal 1\n",
    "                 False, # canal 2\n",
    "                 True, # canal 3\n",
    "                 True] # canal 4\n",
    "\n",
    "# Configuração fonte receptor\n",
    "# Obs.: manter itens para canais desativados\n",
    "sourceReceiver = ['S1R1', # canal 1 (ATENÇÃO: canal 1 e 2 tem a mesma cfg.)\n",
    "                  'S1R1', # canal 2 (ATENÇÃO: canal 1 e 2 tem a mesma cfg.)\n",
    "                  'S1R2', # canal 3 \n",
    "                  'S1R3'] # canal 4\n",
    "\n",
    "excitation = 'sweep'\n",
    "# excitation = 'musica'\n",
    "# excitation = 'fala'\n",
    "\n"
   ]
  },
  {
   "cell_type": "markdown",
   "metadata": {},
   "source": [
    "#### Aplicando opções"
   ]
  },
  {
   "cell_type": "code",
   "execution_count": 9,
   "metadata": {},
   "outputs": [],
   "source": [
    "# Redefinindo variável inChannel\n",
    "j = 1\n",
    "inChannel = []\n",
    "for i in channelStatus:\n",
    "    if i:\n",
    "        inChannel.append(j)\n",
    "    j=j+1\n",
    "playRec[excitation].inChannel = inChannel"
   ]
  },
  {
   "cell_type": "markdown",
   "metadata": {},
   "source": [
    "### Rodando medição"
   ]
  },
  {
   "cell_type": "code",
   "execution_count": 10,
   "metadata": {},
   "outputs": [
    {
     "name": "stdout",
     "output_type": "stream",
     "text": [
      "max output level (excitation):  -1.9382008959705685 dBFs - ref.: 1 [-]\n",
      "max input level (recording):  -89.01004791259766 dBFs - ref.: 1 [-]\n"
     ]
    },
    {
     "data": {
      "image/png": "[encoded data removed]",
      "text/plain": [
       "<Figure size 720x360 with 1 Axes>"
      ]
     },
     "metadata": {
      "needs_background": "light"
     },
     "output_type": "display_data"
    }
   ],
   "source": [
    "measureTake = playRec[excitation].run()\n",
    "measureTake.plot_time()\n",
    "measureTake.temp = 24 # FALTA INTEGRAR LABJACK\n",
    "measureTake.RH = 69 # FALTA INTEGRAR LABJACK\n",
    "measureTake.sourceReceiver = sourceReceiver\n",
    "measureTake.comment = excitation"
   ]
  },
  {
   "cell_type": "markdown",
   "metadata": {},
   "source": [
    "### Armazenamento da última tomada da medição"
   ]
  },
  {
   "cell_type": "markdown",
   "metadata": {},
   "source": [
    "#### Prepara última tomada da medição para armazenamento no dicionário de dados medidos"
   ]
  },
  {
   "cell_type": "code",
   "execution_count": 11,
   "metadata": {
    "scrolled": true
   },
   "outputs": [
    {
     "ename": "IndexError",
     "evalue": "index 2 is out of bounds for axis 1 with size 2",
     "output_type": "error",
     "traceback": [
      "\u001b[0;31m---------------------------------------------------------------------------\u001b[0m",
      "\u001b[0;31mIndexError\u001b[0m                                Traceback (most recent call last)",
      "\u001b[0;32m<ipython-input-11-43849318426c>\u001b[0m in \u001b[0;36m<module>\u001b[0;34m\u001b[0m\n\u001b[1;32m     13\u001b[0m \u001b[0;34m\u001b[0m\u001b[0m\n\u001b[1;32m     14\u001b[0m \u001b[0;32mif\u001b[0m \u001b[0mchannelStatus\u001b[0m\u001b[0;34m[\u001b[0m\u001b[0;36m2\u001b[0m\u001b[0;34m]\u001b[0m\u001b[0;34m:\u001b[0m\u001b[0;34m\u001b[0m\u001b[0;34m\u001b[0m\u001b[0m\n\u001b[0;32m---> 15\u001b[0;31m     hc1 = pytta.SignalObj(measureTake.timeSignal[:,2],\n\u001b[0m\u001b[1;32m     16\u001b[0m                           \u001b[0;34m'time'\u001b[0m\u001b[0;34m,\u001b[0m\u001b[0;34m\u001b[0m\u001b[0;34m\u001b[0m\u001b[0m\n\u001b[1;32m     17\u001b[0m                           \u001b[0msamplingRate\u001b[0m\u001b[0;34m=\u001b[0m\u001b[0mmeasureTake\u001b[0m\u001b[0;34m.\u001b[0m\u001b[0msamplingRate\u001b[0m\u001b[0;34m,\u001b[0m\u001b[0;34m\u001b[0m\u001b[0;34m\u001b[0m\u001b[0m\n",
      "\u001b[0;31mIndexError\u001b[0m: index 2 is out of bounds for axis 1 with size 2"
     ]
    }
   ],
   "source": [
    "# Desmembra o SignalObj measuretake de 4 canais em 3 SignalObj referentes ao arranjo biauricular \n",
    "# em uma posição e ao centro da cabeça em duas outras posições\n",
    "\n",
    "# BUG AQUI. PRECISA PEGAR O SINAL NO TEMPO DE ACORDO COM STATUS DOS CANAIS\n",
    "\n",
    "if channelStatus[0] and channelStatus[1]:\n",
    "    binaural = pytta.SignalObj(measureTake.timeSignal[:,0:2],\n",
    "                               'time',\n",
    "                               samplingRate=measureTake.samplingRate,\n",
    "                               channelName=[measureTake.channelName[0],measureTake.channelName[1]],\n",
    "                               comment=measureTake.comment)\n",
    "    binaural.temp = measureTake.temp\n",
    "    binaural.RH = measureTake.RH\n",
    "    binaural.sourceReceiver = [measureTake.sourceReceiver[0],measureTake.sourceReceiver[1]]\n",
    "\n",
    "if channelStatus[2]:\n",
    "    hc1 = pytta.SignalObj(measureTake.timeSignal[:,2],\n",
    "                          'time',\n",
    "                          samplingRate=measureTake.samplingRate,\n",
    "                          channelName=[measureTake.channelName[2]],\n",
    "                          comment=measureTake.comment)\n",
    "    hc1.temp = measureTake.temp\n",
    "    hc1.RH = measureTake.RH\n",
    "    hc1.sourceReceiver = measureTake.sourceReceiver[2]\n",
    "\n",
    "if channelStatus[3]:\n",
    "    hc2 = pytta.SignalObj(measureTake.timeSignal[:,3],\n",
    "                          'time',\n",
    "                          samplingRate=measureTake.samplingRate,\n",
    "                          channelName=[measureTake.channelName[3]],\n",
    "                          comment=measureTake.comment)\n",
    "    hc2.temp = measureTake.temp\n",
    "    hc2.RH = measureTake.RH\n",
    "    hc2.sourceReceiver = measureTake.sourceReceiver[3]\n",
    "\n",
    "# Neste ponto já teríamos tomado uma medição e desmembrado o SignalObj resultante em 3 novos SignalObj, sendo um \n",
    "# para o microfone biauricular e dois para os microfones de centro da cabeça."
   ]
  },
  {
   "cell_type": "markdown",
   "metadata": {},
   "source": [
    "#### Adicionando tomada de medição no dicionário de dados medidos"
   ]
  },
  {
   "cell_type": "code",
   "execution_count": 71,
   "metadata": {},
   "outputs": [],
   "source": [
    "# Adiciona cada uma das três posições de receptor da última tomada de medição \n",
    "if channelStatus[0] and channelStatus[1]:\n",
    "    measurementData[binaural.sourceReceiver] = {binaural.comment : {'binaural' : binaural }}\n",
    "elif channelStatus[2]:\n",
    "    measurementData[hc1.sourceReceiver] = {hc1.comment : {'hc' : hc1 }}\n",
    "elif channelStatus[3]:\n",
    "    measurementData[hc2.sourceReceiver] = {hc2.comment : {'hc' : hc2 }}"
   ]
  },
  {
   "cell_type": "markdown",
   "metadata": {},
   "source": [
    "#### Acessando dados no dicionário de dados medidos"
   ]
  },
  {
   "cell_type": "code",
   "execution_count": 72,
   "metadata": {},
   "outputs": [],
   "source": [
    "measurementData['S1R1']['sweep']['binaural'].play()"
   ]
  },
  {
   "cell_type": "code",
   "execution_count": 74,
   "metadata": {},
   "outputs": [
    {
     "data": {
      "text/plain": [
       "{'Channel 1': {'No comments.': {'binaural': <pytta.classes.SignalObj at 0x13496d7b8>}},\n",
       " 'S1R1': {'sweep': {'binaural': <pytta.classes.SignalObj at 0x134ba6d68>}}}"
      ]
     },
     "execution_count": 74,
     "metadata": {},
     "output_type": "execute_result"
    }
   ],
   "source": [
    "measurementData"
   ]
  },
  {
   "cell_type": "code",
   "execution_count": null,
   "metadata": {},
   "outputs": [],
   "source": []
  }
 ],
 "metadata": {
  "kernelspec": {
   "display_name": "Python 3",
   "language": "python",
   "name": "python3"
  },
  "language_info": {
   "codemirror_mode": {
    "name": "ipython",
    "version": 3
   },
   "file_extension": ".py",
   "mimetype": "text/x-python",
   "name": "python",
   "nbconvert_exporter": "python",
   "pygments_lexer": "ipython3",
   "version": "3.7.1"
  }
 },
 "nbformat": 4,
 "nbformat_minor": 2
}
