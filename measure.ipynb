{
 "cells": [
  {
   "cell_type": "markdown",
   "metadata": {},
   "source": [
    "# UFSM\n",
    "## Engenharia Acústica \n",
    "## Processamento Digital de Sinais II\n",
    "### Trabalho Integrado: rotina de medição"
   ]
  },
  {
   "cell_type": "code",
   "execution_count": 1,
   "metadata": {},
   "outputs": [],
   "source": [
    "# Carregando as bibliotecas que utilizaremos\n",
    "import pytta\n",
    "from scipy.io import wavfile as wf\n",
    "import copy as cp\n",
    "import numpy as np"
   ]
  },
  {
   "cell_type": "markdown",
   "metadata": {},
   "source": [
    "#### Carregando dados já medidos"
   ]
  },
  {
   "cell_type": "code",
   "execution_count": null,
   "metadata": {},
   "outputs": [],
   "source": []
  },
  {
   "cell_type": "markdown",
   "metadata": {},
   "source": [
    "#### Salvando dados medidos"
   ]
  },
  {
   "cell_type": "code",
   "execution_count": null,
   "metadata": {},
   "outputs": [],
   "source": []
  },
  {
   "cell_type": "markdown",
   "metadata": {},
   "source": [
    "#### Organização dos dados medidos\n",
    " \n",
    "O tipo de dado Struct, do MATLAB, funciona de forma semelhante ao Dictionary do Python. Vamos organizar as variáveis com dicionários dentro de dicionários.\n",
    "\n",
    "Sugiro que os dados sejam organizados nos seguintes níveis de informação e sequência:\n",
    "1. Configuração fonte receptor; e.g. S1R1;\n",
    "2. Sinal de excitação: sweep, música ou fala;\n",
    "3. Sinal gravado: biauricular, monofônico\n",
    "\n",
    "É notável que no momento da medição os dados não serão adquiridos nessa sequência. Uma parte do trabalho da nossa rotina de medição é pegar os dados medidos na última tomada e inseri-los no lugar correto do nosso dicionário de medição. Pois a cada tomada o número de posições medidas de receptor  mudará, como já vimos na matriz de teste (e.g. tomada 1 com S1R1 - biauricular, S1R2 - centro da cabeça - e S1R3 - centro do cabeça; tomada 'n' somente com S2R5 - biauricular)."
   ]
  },
  {
   "cell_type": "markdown",
   "metadata": {},
   "source": [
    "#### Tomada de medição"
   ]
  },
  {
   "cell_type": "code",
   "execution_count": null,
   "metadata": {},
   "outputs": [],
   "source": [
    "# Load de sinal de áudio qualquer para demonstração do código\n",
    "fileName = 'Piano Over the rainbow Mic2  SHORT.wav'\n",
    "dummySignal = pytta.read_wav(fileName)   \n",
    "\n",
    "# Cria signalObj de 4 canais como seria numa tomada de medição\n",
    "merge1 = pytta.merge(dummySignal,dummySignal)\n",
    "measureTake = pytta.merge(merge1,merge1)\n",
    "measureTake.channelName = ['S1R1','S1R1','S1R2','S1R3']\n",
    "measureTake.comment = 'music'\n",
    "measureTake.temp = 24.666\n",
    "measureTake.RH = 69"
   ]
  },
  {
   "cell_type": "markdown",
   "metadata": {},
   "source": [
    "#### Exemplo de armazenamento na matriz de dados"
   ]
  },
  {
   "cell_type": "code",
   "execution_count": 2,
   "metadata": {
    "scrolled": true
   },
   "outputs": [],
   "source": [
    "# Desmembra o SignalObj measuretake de 4 canais em 3 SignalObj referentes ao arranjo biauricular \n",
    "# em uma posição e ao centro da cabeça em duas outras posições\n",
    "\n",
    "binaural = pytta.SignalObj(measureTake.timeSignal[:,0:2],\n",
    "                           'time',\n",
    "                           samplingRate=measureTake.samplingRate,\n",
    "                           channelName=[measureTake.channelName[0],measureTake.channelName[1]],\n",
    "                           comment=measureTake.comment)\n",
    "binaural.temp = measureTake.temp\n",
    "binaural.RH = measureTake.RH\n",
    "\n",
    "hc1 = pytta.SignalObj(measureTake.timeSignal[:,2],\n",
    "                      'time',\n",
    "                      samplingRate=measureTake.samplingRate,\n",
    "                      channelName=[measureTake.channelName[2]],\n",
    "                      comment=measureTake.comment)\n",
    "hc1.temp = measureTake.temp\n",
    "hc1.RH = measureTake.RH\n",
    "\n",
    "hc2 = pytta.SignalObj(measureTake.timeSignal[:,3],\n",
    "                      'time',\n",
    "                      samplingRate=measureTake.samplingRate,\n",
    "                      channelName=[measureTake.channelName[3]],\n",
    "                      comment=measureTake.comment)\n",
    "hc2.temp = measureTake.temp\n",
    "hc2.RH = measureTake.RH\n",
    "\n",
    "    \n",
    "# Neste ponto já teríamos tomado uma medição e desmembrado o SignalObj resultante em 3 novos SignalObj, sendo um \n",
    "# para o microfone biauricular e dois para os microfones de centro da cabeça.\n",
    "\n"
   ]
  },
  {
   "cell_type": "markdown",
   "metadata": {},
   "source": [
    "#### Adicionando tomada de medição na matriz de dados medidos"
   ]
  },
  {
   "cell_type": "code",
   "execution_count": null,
   "metadata": {},
   "outputs": [],
   "source": [
    "# Adicionando a última tomada da medição no dicionário de dados\n",
    "    \n",
    "measurementData = {} # Cria o dicionário vazio que conterá todos os níveis de informação do nosso dia de medição\n",
    "\n",
    "# Adiciona cada uma das três posições de receptor da última tomada de medição \n",
    "measurementData[binaural.channelName[0]] = {binaural.comment : {'binaural' : binaural }}\n",
    "measurementData[hc1.channelName[0]] = {hc1.comment : {'hc' : hc1 }}\n",
    "measurementData[hc2.channelName[0]] = {hc2.comment : {'hc' : hc2 }}"
   ]
  },
  {
   "cell_type": "markdown",
   "metadata": {},
   "source": [
    "#### Acessando dados do dicionário de medição"
   ]
  },
  {
   "cell_type": "code",
   "execution_count": 3,
   "metadata": {},
   "outputs": [],
   "source": [
    "measurementData['S1R1']['music']['binaural'].play()"
   ]
  },
  {
   "cell_type": "code",
   "execution_count": 4,
   "metadata": {},
   "outputs": [
    {
     "data": {
      "text/plain": [
       "array([-3.05175781e-05,  0.00000000e+00,  0.00000000e+00, ...,\n",
       "        6.10351562e-05,  3.05175781e-05,  3.05175781e-05])"
      ]
     },
     "execution_count": 4,
     "metadata": {},
     "output_type": "execute_result"
    }
   ],
   "source": [
    "measureTake.timeSignal[:,3]"
   ]
  },
  {
   "cell_type": "code",
   "execution_count": null,
   "metadata": {},
   "outputs": [],
   "source": []
  }
 ],
 "metadata": {
  "kernelspec": {
   "display_name": "Python 3",
   "language": "python",
   "name": "python3"
  },
  "language_info": {
   "codemirror_mode": {
    "name": "ipython",
    "version": 3
   },
   "file_extension": ".py",
   "mimetype": "text/x-python",
   "name": "python",
   "nbconvert_exporter": "python",
   "pygments_lexer": "ipython3",
   "version": "3.7.1"
  }
 },
 "nbformat": 4,
 "nbformat_minor": 2
}
